{
 "cells": [
  {
   "cell_type": "code",
   "execution_count": 76,
   "metadata": {
    "collapsed": true
   },
   "outputs": [],
   "source": [
    "%matplotlib inline\n",
    "import numpy as np\n",
    "import h5py\n",
    "from sklearn import cross_validation, neighbors, metrics\n",
    "import matplotlib.pyplot as plt"
   ]
  },
  {
   "cell_type": "code",
   "execution_count": 77,
   "metadata": {
    "collapsed": false
   },
   "outputs": [],
   "source": [
    "h5file = h5py.File(\"./knnClassify3c.mat\", \"r\")  # this data can be downloaded from pmtk3 repository"
   ]
  },
  {
   "cell_type": "code",
   "execution_count": 78,
   "metadata": {
    "collapsed": false
   },
   "outputs": [],
   "source": [
    "X_train = np.array(h5file[\"Xtrain\"]).T\n",
    "X_test = np.array(h5file[\"Xtest\"]).T\n",
    "y_train = np.array(h5file[\"ytrain\"]).ravel()\n",
    "y_test = np.array(h5file[\"ytest\"]).ravel()"
   ]
  },
  {
   "cell_type": "code",
   "execution_count": 79,
   "metadata": {
    "collapsed": true
   },
   "outputs": [],
   "source": [
    "ks = np.array([1, 5, 10, 20, 50, 100, 120])"
   ]
  },
  {
   "cell_type": "code",
   "execution_count": 80,
   "metadata": {
    "collapsed": false
   },
   "outputs": [],
   "source": [
    "n_folds = 5\n",
    "N_train = X_train.shape[0]\n",
    "np.random.seed(0)\n",
    "cv = cross_validation.KFold(N_train, n_folds, shuffle=True)\n",
    "cv_err_result = []\n",
    "test_err_result = []\n",
    "for k in ks:\n",
    "    cv_err_rates = []\n",
    "    for train_index, test_index in cv:\n",
    "        X_cv_train = X_train[train_index]\n",
    "        X_cv_test = X_train[test_index]\n",
    "        y_cv_train = y_train[train_index]\n",
    "        y_cv_test = y_train[test_index]\n",
    "        cv_model = neighbors.KNeighborsClassifier(n_neighbors=k)\n",
    "        cv_model.fit(X_cv_train, y_cv_train)\n",
    "        y_cv_pred = cv_model.predict(X_cv_test)\n",
    "        err = 1 - metrics.accuracy_score(y_cv_test, y_cv_pred)\n",
    "        cv_err_rates.append(err)\n",
    "    cv_err_mean = np.mean(cv_err_rates)\n",
    "    cv_err_result.append(cv_err_mean)\n",
    "    model = neighbors.KNeighborsClassifier(n_neighbors=k)\n",
    "    model.fit(X_train, y_train)\n",
    "    y_pred = model.predict(X_test)\n",
    "    test_err = 1 - metrics.accuracy_score(y_test, y_pred)\n",
    "    test_err_result.append(test_err)"
   ]
  },
  {
   "cell_type": "code",
   "execution_count": 81,
   "metadata": {
    "collapsed": false
   },
   "outputs": [
    {
     "data": {
      "text/plain": [
       "<matplotlib.legend.Legend at 0x7fc552b8fe48>"
      ]
     },
     "execution_count": 81,
     "metadata": {},
     "output_type": "execute_result"
    },
    {
     "data": {
      "image/png": "[encoded data removed]",
      "text/plain": [
       "<matplotlib.figure.Figure at 0x7fc552f72e10>"
      ]
     },
     "metadata": {},
     "output_type": "display_data"
    }
   ],
   "source": [
    "p1, = plt.plot(ks, cv_err_result, \"r*\", markersize=10)\n",
    "plt.plot(ks, cv_err_result, \"r\")\n",
    "p2, = plt.plot(ks, test_err_result, \"bs\")\n",
    "plt.plot(ks, test_err_result, \"b\")\n",
    "plt.legend([p1, p2], [\"cv\", \"test\"])"
   ]
  }
 ],
 "metadata": {
  "kernelspec": {
   "display_name": "Python 3",
   "language": "python",
   "name": "python3"
  },
  "language_info": {
   "codemirror_mode": {
    "name": "ipython",
    "version": 3
   },
   "file_extension": ".py",
   "mimetype": "text/x-python",
   "name": "python",
   "nbconvert_exporter": "python",
   "pygments_lexer": "ipython3",
   "version": "3.5.2"
  }
 },
 "nbformat": 4,
 "nbformat_minor": 0
}

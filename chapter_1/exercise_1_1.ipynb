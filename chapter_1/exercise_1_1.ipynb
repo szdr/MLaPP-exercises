{
 "cells": [
  {
   "cell_type": "code",
   "execution_count": 1,
   "metadata": {
    "collapsed": true
   },
   "outputs": [],
   "source": [
    "import numpy as np\n",
    "from sklearn import datasets, neighbors, metrics"
   ]
  },
  {
   "cell_type": "code",
   "execution_count": 2,
   "metadata": {
    "collapsed": true
   },
   "outputs": [],
   "source": [
    "mnist = datasets.fetch_mldata(\"MNIST original\", data_home=\".\")"
   ]
  },
  {
   "cell_type": "code",
   "execution_count": 3,
   "metadata": {
    "collapsed": false
   },
   "outputs": [],
   "source": [
    "# N_train = 60000\n",
    "N_train = 1000  # speed up\n",
    "\n",
    "np.random.seed(0)\n",
    "ind = np.random.permutation(mnist[\"data\"].shape[0])  # original dataset is sorted by label\n",
    "data = mnist[\"data\"][ind]\n",
    "target = mnist[\"target\"][ind]\n",
    "X_train = data[:N_train]\n",
    "X_test = data[60000:]\n",
    "y_train = target[:N_train]\n",
    "y_test = target[60000:]"
   ]
  },
  {
   "cell_type": "code",
   "execution_count": 4,
   "metadata": {
    "collapsed": false
   },
   "outputs": [
    {
     "name": "stdout",
     "output_type": "stream",
     "text": [
      "0.1209\n"
     ]
    }
   ],
   "source": [
    "nn = neighbors.KNeighborsClassifier(n_neighbors=1, n_jobs=-1)\n",
    "nn.fit(X_train, y_train)\n",
    "y_pred = nn.predict(X_test)\n",
    "test_error_rate = 1 - metrics.accuracy_score(y_pred, y_test)\n",
    "print(test_error_rate)"
   ]
  },
  {
   "cell_type": "code",
   "execution_count": 5,
   "metadata": {
    "collapsed": false
   },
   "outputs": [
    {
     "name": "stdout",
     "output_type": "stream",
     "text": [
      "0.1209\n"
     ]
    }
   ],
   "source": [
    "# random shuffle for feature\n",
    "feature_ind = np.random.permutation(mnist[\"data\"].shape[1])\n",
    "X_train_shuffle = X_train[:, feature_ind]\n",
    "X_test_shuffle = X_test[:, feature_ind]\n",
    "nn_shuffle = neighbors.KNeighborsClassifier(n_neighbors=1, n_jobs=-1)\n",
    "nn_shuffle.fit(X_train_shuffle, y_train)\n",
    "y_pred_shuffle = nn_shuffle.predict(X_test_shuffle)\n",
    "test_shuffle_error_rate = 1 - metrics.accuracy_score(y_pred_shuffle, y_test)\n",
    "print(test_shuffle_error_rate)  # equals the above result"
   ]
  }
 ],
 "metadata": {
  "kernelspec": {
   "display_name": "Python 3",
   "language": "python",
   "name": "python3"
  },
  "language_info": {
   "codemirror_mode": {
    "name": "ipython",
    "version": 3
   },
   "file_extension": ".py",
   "mimetype": "text/x-python",
   "name": "python",
   "nbconvert_exporter": "python",
   "pygments_lexer": "ipython3",
   "version": "3.5.2"
  }
 },
 "nbformat": 4,
 "nbformat_minor": 0
}
